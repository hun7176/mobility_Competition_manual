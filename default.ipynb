{
 "cells": [
  {
   "cell_type": "markdown",
   "metadata": {},
   "source": [
    "## README\n",
    "\n",
    "Turtlebot3 package has been built by installing and building the source.\n",
    "\n",
    "![default](images/Fig.d1_Turtlebot3Package.JPG)\n",
    "\n",
    "\n",
    "\n",
    "### gazebo world 실행\n",
    "\n",
    "- Web Shell #1\n",
    "\n",
    "```\n",
    "$ source ~/turtlebot3_ws/install/setup.bash\n",
    "$ export TURTLEBOT3_MODEL=burger\n",
    "$ ros2 launch turtlebot3_gazebo turtlebot3_world.launch.py\n",
    "```\n",
    "\n",
    "- Mouse control in Gazebo \n",
    "    - 메뉴 : Camera \n",
    "        - Perspective = CHECK\n",
    "        - Orbit View Control = CHECK\n",
    "\n",
    "![default](images/Fig.d2_GazeboMouseControl.JPG)\n",
    "\n",
    "### teleop_keyboard 실행\n",
    "\n",
    "- Web Shell #2\n",
    "\n",
    "```\n",
    "$ source ~/turtlebot3_ws/install/setup.bash\n",
    "$ export TURTLEBOT3_MODEL=burger\n",
    "$ ros2 run turtlebot3_teleop teleop_keyboard\n",
    "```\n",
    "\n",
    "    - 키보드 속도 제어 \n",
    "        w : linear velocity 증가 \n",
    "        s : linear & angular velocity 정지 \n",
    "        x : linear velocity 감소 \n",
    "        a : angular velocity 증가\n",
    "        d : angular velocity 감소 \n",
    "\n",
    "### rviz2 실행\n",
    "\n",
    "- Web Shell #3\n",
    "\n",
    "```\n",
    "$ source ~/turtlebot3_ws/install/setup.bash\n",
    "$ export TURTLEBOT3_MODEL=burger\n",
    "$ ros2 launch turtlebot3_bringup rviz2.launch.py\n",
    "```"
   ]
  },
  {
   "cell_type": "code",
   "execution_count": null,
   "metadata": {},
   "outputs": [],
   "source": []
  }
 ],
 "metadata": {
  "kernelspec": {
   "display_name": "Python 2",
   "language": "python",
   "name": "python2"
  },
  "language_info": {
   "codemirror_mode": {
    "name": "ipython",
    "version": 2
   },
   "file_extension": ".py",
   "mimetype": "text/x-python",
   "name": "python",
   "nbconvert_exporter": "python",
   "pygments_lexer": "ipython2",
   "version": "2.7.16"
  }
 },
 "nbformat": 4,
 "nbformat_minor": 1
}
